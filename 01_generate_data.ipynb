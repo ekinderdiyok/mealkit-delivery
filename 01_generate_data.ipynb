{
 "cells": [
  {
   "cell_type": "code",
   "execution_count": 8,
   "metadata": {},
   "outputs": [
    {
     "name": "stdout",
     "output_type": "stream",
     "text": [
      "CSV file '/Users/ekinderdiyok/Documents/Projects/mealkit-delivery/campaigns.csv' has been created with 100 synthetic campaigns.\n"
     ]
    }
   ],
   "source": [
    "import pandas as pd\n",
    "from faker import Faker\n",
    "import random\n",
    "from datetime import datetime, timedelta\n",
    "\n",
    "# Create a Faker instance for generating synthetic data\n",
    "fake = Faker()\n",
    "\n",
    "# Function to generate random date ranges for campaigns over the last 10 years\n",
    "def generate_date_range():\n",
    "    start_date = fake.date_between(start_date='-10y', end_date='today')\n",
    "    end_date = start_date + timedelta(days=random.randint(10, 90))  # Campaign duration between 10 to 90 days\n",
    "    return start_date, end_date\n",
    "\n",
    "# Generate 100 synthetic campaigns\n",
    "campaigns_data = []\n",
    "for campaign_id in range(1, 101):\n",
    "    campaign_name = fake.catch_phrase()\n",
    "    description = fake.paragraph(nb_sentences=3)\n",
    "    start_date, end_date = generate_date_range()\n",
    "    budget = round(random.uniform(1000, 50000), 2)\n",
    "    channel = random.choice([\"Email\", \"Social Media\", \"Online Ads\", \"Direct Mail\"])\n",
    "    target_audience = random.choice([\"Adults\", \"Teens\", \"Seniors\", \"Professionals\"])\n",
    "    total_cost = budget * random.uniform(0.8, 1.2)  # Adjust total cost with some variability\n",
    "\n",
    "    campaigns_data.append({\n",
    "        \"campaign_id\": campaign_id,\n",
    "        \"campaign_name\": campaign_name,\n",
    "        \"description\": description,\n",
    "        \"start_date\": start_date,\n",
    "        \"end_date\": end_date,\n",
    "        \"budget\": budget,\n",
    "        \"target_audience\": target_audience,\n",
    "        \"channel\": channel,\n",
    "        \"total_cost\": round(total_cost, 2)\n",
    "    })\n",
    "\n",
    "# Create a DataFrame from the synthetic data\n",
    "campaigns_df = pd.DataFrame(campaigns_data)\n",
    "\n",
    "# Save the DataFrame to a CSV file\n",
    "csv_filename = \"/Users/ekinderdiyok/Documents/Projects/mealkit-delivery/campaigns.csv\"\n",
    "campaigns_df.to_csv(csv_filename, index=False)\n",
    "\n",
    "print(f\"CSV file '{csv_filename}' has been created with 100 synthetic campaigns.\")"
   ]
  },
  {
   "cell_type": "code",
   "execution_count": 11,
   "metadata": {},
   "outputs": [
    {
     "name": "stdout",
     "output_type": "stream",
     "text": [
      "CSV file '/Users/ekinderdiyok/Documents/Projects/mealkit-delivery/events.csv' has been created with 1000 synthetic events.\n"
     ]
    }
   ],
   "source": [
    "import pandas as pd\n",
    "from faker import Faker\n",
    "import random\n",
    "from datetime import datetime, timedelta\n",
    "\n",
    "# Create a Faker instance for generating synthetic data\n",
    "fake = Faker()\n",
    "\n",
    "# Load the campaigns data from the CSV file\n",
    "campaigns_df = pd.read_csv(\"/Users/ekinderdiyok/Documents/Projects/mealkit-delivery/campaigns.csv\")\n",
    "\n",
    "# Ensure 'start_date' and 'end_date' are datetime objects\n",
    "campaigns_df['start_date'] = pd.to_datetime(campaigns_df['start_date'])\n",
    "campaigns_df['end_date'] = pd.to_datetime(campaigns_df['end_date'])\n",
    "\n",
    "# Number of synthetic events to generate\n",
    "num_events = 1000\n",
    "\n",
    "# Define possible values for event attributes\n",
    "event_types = [\"click\", \"impression\", \"conversion\", \"signup\", \"page_view\"]\n",
    "channels = [\"Email\", \"Social Media\", \"Online Ads\", \"Direct Mail\"]\n",
    "\n",
    "# Generate synthetic events data\n",
    "events_data = []\n",
    "for _ in range(num_events):\n",
    "    event_id = fake.uuid4()  # Unique event identifier\n",
    "    campaign_id = random.randint(1, 100)  # Assuming there are 100 campaigns\n",
    "\n",
    "    # Retrieve the campaign's start and end dates\n",
    "    campaign = campaigns_df[campaigns_df[\"campaign_id\"] == campaign_id].iloc[0]\n",
    "    start_date = campaign[\"start_date\"]\n",
    "    end_date = campaign[\"end_date\"]\n",
    "\n",
    "    # Skip campaigns where the end date is before the start date (just in case)\n",
    "    if end_date <= start_date:\n",
    "        continue\n",
    "\n",
    "    # Generate an event date within the campaign's duration\n",
    "    event_date = fake.date_time_between_dates(datetime_start=start_date, datetime_end=end_date)\n",
    "\n",
    "    customer_id = random.randint(1, 500)  # Assuming there are 500 customers\n",
    "    event_type = random.choice(event_types)\n",
    "    channel = random.choice(channels)\n",
    "    order_id = random.randint(1, 1000) if event_type == \"conversion\" else None  # Order ID only for conversions\n",
    "    value = round(random.uniform(10, 500), 2) if event_type in [\"conversion\", \"signup\"] else None  # Value for conversions/signups\n",
    "\n",
    "    events_data.append({\n",
    "        \"event_id\": event_id,\n",
    "        \"campaign_id\": campaign_id,\n",
    "        \"customer_id\": customer_id,\n",
    "        \"event_type\": event_type,\n",
    "        \"event_date\": event_date,\n",
    "        \"channel\": channel,\n",
    "        # Removed 'metadata' field\n",
    "    })\n",
    "\n",
    "# Create a DataFrame from the synthetic events data\n",
    "events_df = pd.DataFrame(events_data)\n",
    "\n",
    "# Save the DataFrame to a CSV file\n",
    "csv_filename = \"/Users/ekinderdiyok/Documents/Projects/mealkit-delivery/events.csv\"\n",
    "events_df.to_csv(csv_filename, index=False)\n",
    "\n",
    "print(f\"CSV file '{csv_filename}' has been created with {len(events_data)} synthetic events.\")"
   ]
  }
 ],
 "metadata": {
  "kernelspec": {
   "display_name": "base",
   "language": "python",
   "name": "python3"
  },
  "language_info": {
   "codemirror_mode": {
    "name": "ipython",
    "version": 3
   },
   "file_extension": ".py",
   "mimetype": "text/x-python",
   "name": "python",
   "nbconvert_exporter": "python",
   "pygments_lexer": "ipython3",
   "version": "3.9.13"
  }
 },
 "nbformat": 4,
 "nbformat_minor": 2
}
