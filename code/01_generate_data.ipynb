{
 "cells": [
  {
   "cell_type": "code",
   "execution_count": 12,
   "metadata": {},
   "outputs": [
    {
     "name": "stdout",
     "output_type": "stream",
     "text": [
      "Collecting pytest\n",
      "  Downloading pytest-8.3.3-py3-none-any.whl.metadata (7.5 kB)\n",
      "Collecting iniconfig (from pytest)\n",
      "  Downloading iniconfig-2.0.0-py3-none-any.whl.metadata (2.6 kB)\n",
      "Requirement already satisfied: packaging in /Users/ekin/Documents/Projects/mealkit-delivery/.venv/lib/python3.12/site-packages (from pytest) (24.1)\n",
      "Collecting pluggy<2,>=1.5 (from pytest)\n",
      "  Downloading pluggy-1.5.0-py3-none-any.whl.metadata (4.8 kB)\n",
      "Downloading pytest-8.3.3-py3-none-any.whl (342 kB)\n",
      "Downloading pluggy-1.5.0-py3-none-any.whl (20 kB)\n",
      "Downloading iniconfig-2.0.0-py3-none-any.whl (5.9 kB)\n",
      "Installing collected packages: pluggy, iniconfig, pytest\n",
      "Successfully installed iniconfig-2.0.0 pluggy-1.5.0 pytest-8.3.3\n",
      "Note: you may need to restart the kernel to use updated packages.\n"
     ]
    }
   ],
   "source": [
    "pip install pytest"
   ]
  },
  {
   "cell_type": "code",
   "execution_count": 2,
   "metadata": {},
   "outputs": [
    {
     "name": "stdout",
     "output_type": "stream",
     "text": [
      "Collecting pandas\n",
      "  Downloading pandas-2.2.3-cp312-cp312-macosx_11_0_arm64.whl.metadata (89 kB)\n",
      "Collecting numpy>=1.26.0 (from pandas)\n",
      "  Downloading numpy-2.1.1-cp312-cp312-macosx_14_0_arm64.whl.metadata (60 kB)\n",
      "Requirement already satisfied: python-dateutil>=2.8.2 in /Users/ekin/Documents/Projects/mealkit-delivery/.venv/lib/python3.12/site-packages (from pandas) (2.9.0.post0)\n",
      "Collecting pytz>=2020.1 (from pandas)\n",
      "  Downloading pytz-2024.2-py2.py3-none-any.whl.metadata (22 kB)\n",
      "Collecting tzdata>=2022.7 (from pandas)\n",
      "  Downloading tzdata-2024.2-py2.py3-none-any.whl.metadata (1.4 kB)\n",
      "Requirement already satisfied: six>=1.5 in /Users/ekin/Documents/Projects/mealkit-delivery/.venv/lib/python3.12/site-packages (from python-dateutil>=2.8.2->pandas) (1.16.0)\n",
      "Downloading pandas-2.2.3-cp312-cp312-macosx_11_0_arm64.whl (11.4 MB)\n",
      "\u001b[2K   \u001b[90m━━━━━━━━━━━━━━━━━━━━━━━━━━━━━━━━━━━━━━━━\u001b[0m \u001b[32m11.4/11.4 MB\u001b[0m \u001b[31m1.2 MB/s\u001b[0m eta \u001b[36m0:00:00\u001b[0ma \u001b[36m0:00:01\u001b[0m\n",
      "\u001b[?25hDownloading numpy-2.1.1-cp312-cp312-macosx_14_0_arm64.whl (5.1 MB)\n",
      "\u001b[2K   \u001b[90m━━━━━━━━━━━━━━━━━━━━━━━━━━━━━━━━━━━━━━━━\u001b[0m \u001b[32m5.1/5.1 MB\u001b[0m \u001b[31m3.8 MB/s\u001b[0m eta \u001b[36m0:00:00\u001b[0ma \u001b[36m0:00:01\u001b[0m\n",
      "\u001b[?25hDownloading pytz-2024.2-py2.py3-none-any.whl (508 kB)\n",
      "Downloading tzdata-2024.2-py2.py3-none-any.whl (346 kB)\n",
      "Installing collected packages: pytz, tzdata, numpy, pandas\n",
      "Successfully installed numpy-2.1.1 pandas-2.2.3 pytz-2024.2 tzdata-2024.2\n",
      "Note: you may need to restart the kernel to use updated packages.\n"
     ]
    }
   ],
   "source": [
    "pip install pandas"
   ]
  },
  {
   "cell_type": "code",
   "execution_count": 3,
   "metadata": {},
   "outputs": [
    {
     "name": "stdout",
     "output_type": "stream",
     "text": [
      "Collecting faker\n",
      "  Downloading Faker-30.1.0-py3-none-any.whl.metadata (15 kB)\n",
      "Requirement already satisfied: python-dateutil>=2.4 in /Users/ekin/Documents/Projects/mealkit-delivery/.venv/lib/python3.12/site-packages (from faker) (2.9.0.post0)\n",
      "Collecting typing-extensions (from faker)\n",
      "  Downloading typing_extensions-4.12.2-py3-none-any.whl.metadata (3.0 kB)\n",
      "Requirement already satisfied: six>=1.5 in /Users/ekin/Documents/Projects/mealkit-delivery/.venv/lib/python3.12/site-packages (from python-dateutil>=2.4->faker) (1.16.0)\n",
      "Downloading Faker-30.1.0-py3-none-any.whl (1.8 MB)\n",
      "\u001b[2K   \u001b[90m━━━━━━━━━━━━━━━━━━━━━━━━━━━━━━━━━━━━━━━━\u001b[0m \u001b[32m1.8/1.8 MB\u001b[0m \u001b[31m824.1 kB/s\u001b[0m eta \u001b[36m0:00:00\u001b[0ma \u001b[36m0:00:01\u001b[0m\n",
      "\u001b[?25hDownloading typing_extensions-4.12.2-py3-none-any.whl (37 kB)\n",
      "Installing collected packages: typing-extensions, faker\n",
      "Successfully installed faker-30.1.0 typing-extensions-4.12.2\n",
      "Note: you may need to restart the kernel to use updated packages.\n"
     ]
    }
   ],
   "source": [
    "pip install faker"
   ]
  },
  {
   "cell_type": "code",
   "execution_count": 1,
   "metadata": {},
   "outputs": [],
   "source": [
    "import pandas as pd\n",
    "from faker import Faker\n",
    "import random\n",
    "from datetime import datetime, timedelta"
   ]
  },
  {
   "cell_type": "code",
   "execution_count": 4,
   "metadata": {},
   "outputs": [
    {
     "name": "stdout",
     "output_type": "stream",
     "text": [
      "CSV file '/Users/ekin/Documents/Projects/mealkit-delivery/data/campaigns.csv' has been created with 100 synthetic campaigns.\n"
     ]
    }
   ],
   "source": [
    "# Create a Faker instance for generating synthetic data\n",
    "fake = Faker()\n",
    "\n",
    "# Function to generate random date ranges for campaigns over the last 12 years\n",
    "def generate_date_range():\n",
    "    start_date = fake.date_between(start_date='-12y', end_date='today')\n",
    "    end_date = start_date + timedelta(days=random.randint(10, 90))  # Campaign duration between 10 to 90 days\n",
    "    return start_date, end_date\n",
    "\n",
    "# Generate 100 synthetic campaigns\n",
    "campaigns_data = []\n",
    "for campaign_id in range(1, 101):\n",
    "    campaign_name = fake.catch_phrase()\n",
    "    start_date, end_date = generate_date_range()\n",
    "    budget = round(random.uniform(1000, 50000))\n",
    "    channel = random.choice([\"instagram\", \"reddit\", \"paid search\"])\n",
    "    target_audience = random.choice([\"families\", \"couples\", \"seniors\"])\n",
    "\n",
    "    campaigns_data.append({\n",
    "        \"campaign_id\": campaign_id,\n",
    "        \"campaign_name\": campaign_name,\n",
    "        \"start_date\": start_date,\n",
    "        \"end_date\": end_date,\n",
    "        \"budget\": budget,\n",
    "        \"target_audience\": target_audience,\n",
    "        \"channel\": channel,\n",
    "    })\n",
    "\n",
    "# Create a DataFrame from the synthetic data\n",
    "campaigns_df = pd.DataFrame(campaigns_data)\n",
    "\n",
    "# Save the DataFrame to a CSV file\n",
    "csv_filename = \"/Users/ekin/Documents/Projects/mealkit-delivery/data/campaigns.csv\"\n",
    "campaigns_df.to_csv(csv_filename, index=False)\n",
    "\n",
    "print(f\"CSV file '{csv_filename}' has been created with 100 synthetic campaigns.\")"
   ]
  },
  {
   "cell_type": "code",
   "execution_count": 9,
   "metadata": {},
   "outputs": [
    {
     "name": "stdout",
     "output_type": "stream",
     "text": [
      "CSV file '/Users/ekin/Documents/Projects/mealkit-delivery/data/events.csv' has been created with 10000 synthetic events.\n"
     ]
    }
   ],
   "source": [
    "# Create a Faker instance for generating synthetic data\n",
    "fake = Faker()\n",
    "\n",
    "# Load the campaigns data from the CSV file\n",
    "campaigns_df = pd.read_csv(\"/Users/ekin/Documents/Projects/mealkit-delivery/data/campaigns.csv\")\n",
    "\n",
    "# Ensure 'start_date' and 'end_date' are datetime objects\n",
    "campaigns_df['start_date'] = pd.to_datetime(campaigns_df['start_date'])\n",
    "campaigns_df['end_date'] = pd.to_datetime(campaigns_df['end_date'])\n",
    "\n",
    "# Number of leads and events\n",
    "num_leads = 8000\n",
    "num_clicks = 8000\n",
    "num_subscribes = 2000\n",
    "\n",
    "# Define possible values for channels\n",
    "channels = [\"referral\", \"social media\", \"paid search\"]\n",
    "\n",
    "# Keep track of leads who clicked but haven't subscribed yet\n",
    "lead_clicks = {}  # lead_id -> list of campaign_ids\n",
    "subscribed_leads = set()  # Track leads who have already subscribed\n",
    "\n",
    "# Generate synthetic events data\n",
    "events_data = []\n",
    "\n",
    "# First, generate 8,000 \"click\" events\n",
    "for _ in range(num_clicks):\n",
    "    event_id = fake.uuid4()  # Unique event identifier\n",
    "    campaign_id = random.randint(1, 100)  # Assuming there are 100 campaigns\n",
    "    lead_id = random.randint(1, num_leads)  # Assuming there are 8,000 leads\n",
    "\n",
    "    # Retrieve the campaign's start and end dates\n",
    "    campaign = campaigns_df[campaigns_df[\"campaign_id\"] == campaign_id].iloc[0]\n",
    "    start_date = campaign[\"start_date\"]\n",
    "    end_date = campaign[\"end_date\"]\n",
    "\n",
    "    # Skip campaigns where the end date is before the start date (just in case)\n",
    "    if end_date <= start_date:\n",
    "        continue\n",
    "\n",
    "    # Generate an event date within the campaign's duration\n",
    "    event_date = fake.date_time_between_dates(datetime_start=start_date, datetime_end=end_date)\n",
    "\n",
    "    # Track which campaign the lead clicked in\n",
    "    if lead_id not in lead_clicks:\n",
    "        lead_clicks[lead_id] = []\n",
    "    lead_clicks[lead_id].append(campaign_id)\n",
    "\n",
    "    # Add the click event to the events_data\n",
    "    events_data.append({\n",
    "        \"event_id\": event_id,\n",
    "        \"campaign_id\": campaign_id,\n",
    "        \"lead_id\": lead_id,\n",
    "        \"event_type\": \"click\",\n",
    "        \"event_date\": event_date,\n",
    "        \"channel\": random.choice(channels),\n",
    "        \"subscription_id\": None  # No subscription for click events\n",
    "    })\n",
    "\n",
    "# Next, generate 2,000 \"subscribe\" events, ensuring a prior \"click\" in the same campaign\n",
    "for _ in range(num_subscribes):\n",
    "    while True:\n",
    "        lead_id = random.randint(1, num_leads)  # Pick a random lead\n",
    "\n",
    "        # Only allow leads who have not subscribed yet\n",
    "        if lead_id in subscribed_leads:\n",
    "            continue\n",
    "\n",
    "        # Ensure the lead has clicked in at least one campaign\n",
    "        if lead_id in lead_clicks and len(lead_clicks[lead_id]) > 0:\n",
    "            campaign_id = random.choice(lead_clicks[lead_id])  # Pick a campaign they clicked in\n",
    "            subscribed_leads.add(lead_id)  # Mark lead as subscribed\n",
    "            subscription_id = fake.uuid4()  # Generate a unique subscription ID\n",
    "            break\n",
    "\n",
    "    # Retrieve the campaign's start and end dates\n",
    "    campaign = campaigns_df[campaigns_df[\"campaign_id\"] == campaign_id].iloc[0]\n",
    "    start_date = campaign[\"start_date\"]\n",
    "    end_date = campaign[\"end_date\"]\n",
    "\n",
    "    # Generate an event date within the campaign's duration\n",
    "    event_date = fake.date_time_between_dates(datetime_start=start_date, datetime_end=end_date)\n",
    "\n",
    "    # Add the subscribe event to the events_data\n",
    "    events_data.append({\n",
    "        \"event_id\": fake.uuid4(),  # Unique event identifier\n",
    "        \"campaign_id\": campaign_id,\n",
    "        \"lead_id\": lead_id,\n",
    "        \"event_type\": \"subscribe\",\n",
    "        \"event_date\": event_date,\n",
    "        \"channel\": random.choice(channels),\n",
    "        \"subscription_id\": subscription_id  # Assign subscription ID for subscribe events\n",
    "    })\n",
    "\n",
    "# Create a DataFrame from the synthetic events data\n",
    "events_df = pd.DataFrame(events_data)\n",
    "\n",
    "# Save the DataFrame to a CSV file\n",
    "csv_filename = \"/Users/ekin/Documents/Projects/mealkit-delivery/data/events.csv\"\n",
    "events_df.to_csv(csv_filename, index=False)\n",
    "\n",
    "print(f\"CSV file '{csv_filename}' has been created with {len(events_data)} synthetic events.\")"
   ]
  },
  {
   "cell_type": "code",
   "execution_count": 11,
   "metadata": {},
   "outputs": [],
   "source": [
    "with open('/Users/ekin/Documents/Projects/mealkit-delivery/code/02_test_gen_data.py', 'w') as f:\n",
    "    f.write(\"\"\"\n",
    "import pytest\n",
    "import pandas as pd\n",
    "\n",
    "# Load the generated events CSV file\n",
    "events_df = pd.read_csv(\"/Users/ekin/Documents/Projects/mealkit-delivery/data/events.csv\")\n",
    "\n",
    "# Test case: Each lead_id can have a maximum of 1 subscription_id\n",
    "def test_single_subscription_per_lead():\n",
    "    leads_with_subscriptions = events_df[events_df['event_type'] == 'subscribe'].groupby('lead_id')['subscription_id'].nunique()\n",
    "    assert (leads_with_subscriptions <= 1).all(), \"Each lead_id should have at most one subscription_id.\"\n",
    "\n",
    "# Test case: Each lead_id can have only one \"subscribe\" event\n",
    "def test_single_subscribe_event_per_lead():\n",
    "    leads_with_subscribe_events = events_df[events_df['event_type'] == 'subscribe'].groupby('lead_id')['event_id'].count()\n",
    "    assert (leads_with_subscribe_events <= 1).all(), \"Each lead_id should have at most one 'subscribe' event.\"\n",
    "\n",
    "# Test case: Every \"subscribe\" event is preceded by a \"click\" event by the same lead_id within the same campaign_id\n",
    "def test_subscribe_preceded_by_click():\n",
    "    for _, subscribe_event in events_df[events_df['event_type'] == 'subscribe'].iterrows():\n",
    "        lead_id = subscribe_event['lead_id']\n",
    "        campaign_id = subscribe_event['campaign_id']\n",
    "        # Check if there's a click event by the same lead in the same campaign\n",
    "        click_event = events_df[\n",
    "            (events_df['event_type'] == 'click') &\n",
    "            (events_df['lead_id'] == lead_id) &\n",
    "            (events_df['campaign_id'] == campaign_id)\n",
    "        ]\n",
    "        assert not click_event.empty, f\"Subscribe event without preceding click by lead {lead_id} in campaign {campaign_id}\"\n",
    "\n",
    "# Test case: There are exactly 2000 \"subscribe\" events\n",
    "def test_subscribe_event_count():\n",
    "    subscribe_event_count = events_df[events_df['event_type'] == 'subscribe'].shape[0]\n",
    "    assert subscribe_event_count == 2000, f\"Expected 2000 subscribe events, but found {subscribe_event_count}\"\n",
    "\n",
    "# Test case: There are exactly 100 unique campaigns\n",
    "def test_campaign_count():\n",
    "    campaign_count = events_df['campaign_id'].nunique()\n",
    "    assert campaign_count == 100, f\"Expected 100 unique campaigns, but found {campaign_count}\"\n",
    "    \"\"\")"
   ]
  }
 ],
 "metadata": {
  "kernelspec": {
   "display_name": "base",
   "language": "python",
   "name": "python3"
  },
  "language_info": {
   "codemirror_mode": {
    "name": "ipython",
    "version": 3
   },
   "file_extension": ".py",
   "mimetype": "text/x-python",
   "name": "python",
   "nbconvert_exporter": "python",
   "pygments_lexer": "ipython3",
   "version": "3.12.6"
  }
 },
 "nbformat": 4,
 "nbformat_minor": 2
}
