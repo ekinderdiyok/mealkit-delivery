{
 "cells": [
  {
   "cell_type": "code",
   "execution_count": 2,
   "metadata": {},
   "outputs": [
    {
     "name": "stdout",
     "output_type": "stream",
     "text": [
      "Collecting pandas\n",
      "  Downloading pandas-2.2.3-cp312-cp312-macosx_11_0_arm64.whl.metadata (89 kB)\n",
      "Collecting numpy>=1.26.0 (from pandas)\n",
      "  Downloading numpy-2.1.1-cp312-cp312-macosx_14_0_arm64.whl.metadata (60 kB)\n",
      "Requirement already satisfied: python-dateutil>=2.8.2 in /Users/ekin/Documents/Projects/mealkit-delivery/.venv/lib/python3.12/site-packages (from pandas) (2.9.0.post0)\n",
      "Collecting pytz>=2020.1 (from pandas)\n",
      "  Downloading pytz-2024.2-py2.py3-none-any.whl.metadata (22 kB)\n",
      "Collecting tzdata>=2022.7 (from pandas)\n",
      "  Downloading tzdata-2024.2-py2.py3-none-any.whl.metadata (1.4 kB)\n",
      "Requirement already satisfied: six>=1.5 in /Users/ekin/Documents/Projects/mealkit-delivery/.venv/lib/python3.12/site-packages (from python-dateutil>=2.8.2->pandas) (1.16.0)\n",
      "Downloading pandas-2.2.3-cp312-cp312-macosx_11_0_arm64.whl (11.4 MB)\n",
      "\u001b[2K   \u001b[90m━━━━━━━━━━━━━━━━━━━━━━━━━━━━━━━━━━━━━━━━\u001b[0m \u001b[32m11.4/11.4 MB\u001b[0m \u001b[31m1.2 MB/s\u001b[0m eta \u001b[36m0:00:00\u001b[0ma \u001b[36m0:00:01\u001b[0m\n",
      "\u001b[?25hDownloading numpy-2.1.1-cp312-cp312-macosx_14_0_arm64.whl (5.1 MB)\n",
      "\u001b[2K   \u001b[90m━━━━━━━━━━━━━━━━━━━━━━━━━━━━━━━━━━━━━━━━\u001b[0m \u001b[32m5.1/5.1 MB\u001b[0m \u001b[31m3.8 MB/s\u001b[0m eta \u001b[36m0:00:00\u001b[0ma \u001b[36m0:00:01\u001b[0m\n",
      "\u001b[?25hDownloading pytz-2024.2-py2.py3-none-any.whl (508 kB)\n",
      "Downloading tzdata-2024.2-py2.py3-none-any.whl (346 kB)\n",
      "Installing collected packages: pytz, tzdata, numpy, pandas\n",
      "Successfully installed numpy-2.1.1 pandas-2.2.3 pytz-2024.2 tzdata-2024.2\n",
      "Note: you may need to restart the kernel to use updated packages.\n"
     ]
    }
   ],
   "source": [
    "pip install pandas"
   ]
  },
  {
   "cell_type": "code",
   "execution_count": 3,
   "metadata": {},
   "outputs": [
    {
     "name": "stdout",
     "output_type": "stream",
     "text": [
      "Collecting faker\n",
      "  Downloading Faker-30.1.0-py3-none-any.whl.metadata (15 kB)\n",
      "Requirement already satisfied: python-dateutil>=2.4 in /Users/ekin/Documents/Projects/mealkit-delivery/.venv/lib/python3.12/site-packages (from faker) (2.9.0.post0)\n",
      "Collecting typing-extensions (from faker)\n",
      "  Downloading typing_extensions-4.12.2-py3-none-any.whl.metadata (3.0 kB)\n",
      "Requirement already satisfied: six>=1.5 in /Users/ekin/Documents/Projects/mealkit-delivery/.venv/lib/python3.12/site-packages (from python-dateutil>=2.4->faker) (1.16.0)\n",
      "Downloading Faker-30.1.0-py3-none-any.whl (1.8 MB)\n",
      "\u001b[2K   \u001b[90m━━━━━━━━━━━━━━━━━━━━━━━━━━━━━━━━━━━━━━━━\u001b[0m \u001b[32m1.8/1.8 MB\u001b[0m \u001b[31m824.1 kB/s\u001b[0m eta \u001b[36m0:00:00\u001b[0ma \u001b[36m0:00:01\u001b[0m\n",
      "\u001b[?25hDownloading typing_extensions-4.12.2-py3-none-any.whl (37 kB)\n",
      "Installing collected packages: typing-extensions, faker\n",
      "Successfully installed faker-30.1.0 typing-extensions-4.12.2\n",
      "Note: you may need to restart the kernel to use updated packages.\n"
     ]
    }
   ],
   "source": [
    "pip install faker"
   ]
  },
  {
   "cell_type": "code",
   "execution_count": null,
   "metadata": {},
   "outputs": [],
   "source": [
    "import pandas as pd\n",
    "from faker import Faker\n",
    "import random\n",
    "from datetime import datetime, timedelta"
   ]
  },
  {
   "cell_type": "code",
   "execution_count": 8,
   "metadata": {},
   "outputs": [
    {
     "name": "stdout",
     "output_type": "stream",
     "text": [
      "CSV file '/Users/ekinderdiyok/Documents/Projects/mealkit-delivery/campaigns.csv' has been created with 100 synthetic campaigns.\n"
     ]
    }
   ],
   "source": [
    "import pandas as pd\n",
    "from faker import Faker\n",
    "import random\n",
    "from datetime import datetime, timedelta\n",
    "\n",
    "# Create a Faker instance for generating synthetic data\n",
    "fake = Faker()\n",
    "\n",
    "# Function to generate random date ranges for campaigns over the last 10 years\n",
    "def generate_date_range():\n",
    "    start_date = fake.date_between(start_date='-10y', end_date='today')\n",
    "    end_date = start_date + timedelta(days=random.randint(10, 90))  # Campaign duration between 10 to 90 days\n",
    "    return start_date, end_date\n",
    "\n",
    "# Generate 100 synthetic campaigns\n",
    "campaigns_data = []\n",
    "for campaign_id in range(1, 101):\n",
    "    campaign_name = fake.catch_phrase()\n",
    "    description = fake.paragraph(nb_sentences=3)\n",
    "    start_date, end_date = generate_date_range()\n",
    "    budget = round(random.uniform(1000, 50000), 2)\n",
    "    channel = random.choice([\"Email\", \"Social Media\", \"Online Ads\", \"Direct Mail\"])\n",
    "    target_audience = random.choice([\"Adults\", \"Teens\", \"Seniors\", \"Professionals\"])\n",
    "    total_cost = budget * random.uniform(0.8, 1.2)  # Adjust total cost with some variability\n",
    "\n",
    "    campaigns_data.append({\n",
    "        \"campaign_id\": campaign_id,\n",
    "        \"campaign_name\": campaign_name,\n",
    "        \"description\": description,\n",
    "        \"start_date\": start_date,\n",
    "        \"end_date\": end_date,\n",
    "        \"budget\": budget,\n",
    "        \"target_audience\": target_audience,\n",
    "        \"channel\": channel,\n",
    "        \"total_cost\": round(total_cost, 2)\n",
    "    })\n",
    "\n",
    "# Create a DataFrame from the synthetic data\n",
    "campaigns_df = pd.DataFrame(campaigns_data)\n",
    "\n",
    "# Save the DataFrame to a CSV file\n",
    "csv_filename = \"/Users/ekinderdiyok/Documents/Projects/mealkit-delivery/campaigns.csv\"\n",
    "campaigns_df.to_csv(csv_filename, index=False)\n",
    "\n",
    "print(f\"CSV file '{csv_filename}' has been created with 100 synthetic campaigns.\")"
   ]
  },
  {
   "cell_type": "code",
   "execution_count": 1,
   "metadata": {},
   "outputs": [
    {
     "ename": "ModuleNotFoundError",
     "evalue": "No module named 'pandas'",
     "output_type": "error",
     "traceback": [
      "\u001b[0;31m---------------------------------------------------------------------------\u001b[0m",
      "\u001b[0;31mModuleNotFoundError\u001b[0m                       Traceback (most recent call last)",
      "Cell \u001b[0;32mIn[1], line 1\u001b[0m\n\u001b[0;32m----> 1\u001b[0m \u001b[38;5;28;01mimport\u001b[39;00m \u001b[38;5;21;01mpandas\u001b[39;00m \u001b[38;5;28;01mas\u001b[39;00m \u001b[38;5;21;01mpd\u001b[39;00m\n\u001b[1;32m      2\u001b[0m \u001b[38;5;28;01mfrom\u001b[39;00m \u001b[38;5;21;01mfaker\u001b[39;00m \u001b[38;5;28;01mimport\u001b[39;00m Faker\n\u001b[1;32m      3\u001b[0m \u001b[38;5;28;01mimport\u001b[39;00m \u001b[38;5;21;01mrandom\u001b[39;00m\n",
      "\u001b[0;31mModuleNotFoundError\u001b[0m: No module named 'pandas'"
     ]
    }
   ],
   "source": [
    "import pandas as pd\n",
    "from faker import Faker\n",
    "import random\n",
    "from datetime import datetime, timedelta\n",
    "\n",
    "# Create a Faker instance for generating synthetic data\n",
    "fake = Faker()\n",
    "\n",
    "# Load the campaigns data from the CSV file\n",
    "campaigns_df = pd.read_csv(\"/Users/ekin/Documents/Projects/mealkit-delivery/campaigns.csv\")\n",
    "\n",
    "# Ensure 'start_date' and 'end_date' are datetime objects\n",
    "campaigns_df['start_date'] = pd.to_datetime(campaigns_df['start_date'])\n",
    "campaigns_df['end_date'] = pd.to_datetime(campaigns_df['end_date'])\n",
    "\n",
    "# Number of synthetic events to generate\n",
    "num_events = 10000\n",
    "\n",
    "# Define possible values for event attributes\n",
    "event_types = [\"subscribe\", \"click\"]\n",
    "channels = [\"referral\", \"social media\", \"paid search\"]\n",
    "\n",
    "# Generate synthetic events data\n",
    "events_data = []\n",
    "for _ in range(num_events):\n",
    "    event_id = fake.uuid4()  # Unique event identifier\n",
    "    campaign_id = random.randint(1, 100)  # Assuming there are 100 campaigns\n",
    "\n",
    "    # Retrieve the campaign's start and end dates\n",
    "    campaign = campaigns_df[campaigns_df[\"campaign_id\"] == campaign_id].iloc[0]\n",
    "    start_date = campaign[\"start_date\"]\n",
    "    end_date = campaign[\"end_date\"]\n",
    "\n",
    "    # Skip campaigns where the end date is before the start date (just in case)\n",
    "    if end_date <= start_date:\n",
    "        continue\n",
    "\n",
    "    # Generate an event date within the campaign's duration\n",
    "    event_date = fake.date_time_between_dates(datetime_start=start_date, datetime_end=end_date)\n",
    "\n",
    "    lead_id = random.randint(1, 500)  # Assuming there are 500 leads\n",
    "    event_type = random.choice(event_types)\n",
    "    channel = random.choice(channels)\n",
    "\n",
    "    events_data.append({\n",
    "        \"event_id\": event_id,\n",
    "        \"campaign_id\": campaign_id,\n",
    "        \"lead_id\": lead_id,\n",
    "        \"event_type\": event_type,\n",
    "        \"event_date\": event_date,\n",
    "        \"channel\": channel\n",
    "    })\n",
    "\n",
    "# Create a DataFrame from the synthetic events data\n",
    "events_df = pd.DataFrame(events_data)\n",
    "\n",
    "# Save the DataFrame to a CSV file\n",
    "csv_filename = \"/Users/ekin/Documents/Projects/mealkit-delivery/events.csv\"\n",
    "events_df.to_csv(csv_filename, index=False)\n",
    "\n",
    "print(f\"CSV file '{csv_filename}' has been created with {len(events_data)} synthetic events.\")"
   ]
  }
 ],
 "metadata": {
  "kernelspec": {
   "display_name": "base",
   "language": "python",
   "name": "python3"
  },
  "language_info": {
   "codemirror_mode": {
    "name": "ipython",
    "version": 3
   },
   "file_extension": ".py",
   "mimetype": "text/x-python",
   "name": "python",
   "nbconvert_exporter": "python",
   "pygments_lexer": "ipython3",
   "version": "3.12.6"
  }
 },
 "nbformat": 4,
 "nbformat_minor": 2
}
